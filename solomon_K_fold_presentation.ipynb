{
  "cells": [
    {
      "cell_type": "markdown",
      "metadata": {
        "id": "view-in-github",
        "colab_type": "text"
      },
      "source": [
        "<a href=\"https://colab.research.google.com/github/Muhirwakyeyune/Unsupervised_learning_projects/blob/main/solomon_K_fold_presentation.ipynb\" target=\"_parent\"><img src=\"https://colab.research.google.com/assets/colab-badge.svg\" alt=\"Open In Colab\"/></a>"
      ]
    },
    {
      "cell_type": "markdown",
      "metadata": {
        "id": "3w-5-IelNZuN"
      },
      "source": [
        "***             CROSS VALIDATION TECHNIQUES***\n",
        "\n",
        "         DEF: cross. validation techniques is a techniques used in machine learning to evaluate the performance predictive model on a dataset\n",
        " the model divide the dataset into two set\n",
        " 1. Training set\n",
        " 2. Validation set\n",
        "                 **WHY DO WE NEED CROSS VALIDATION ** \n",
        "\n",
        "              1. Evaluate model performance\n",
        "              2. Avoid overfitting\n",
        "              3. Hyperparameter tuning\n",
        "              4. Limited data\n",
        "                           "
      ]
    },
    {
      "cell_type": "code",
      "source": [],
      "metadata": {
        "id": "7GFD0c6BUJTx"
      },
      "execution_count": null,
      "outputs": []
    },
    {
      "cell_type": "markdown",
      "metadata": {
        "id": "y-VEFlHRL_Ih"
      },
      "source": [
        "here in this Implementation we have added codes to help us understand, K-fold cross validation for model selection , Cross validation Techniques can help us to determine which machine learning models is efficient for deployment."
      ]
    },
    {
      "cell_type": "code",
      "execution_count": null,
      "metadata": {
        "id": "Buf_b3ksPCA9"
      },
      "outputs": [],
      "source": [
        "import pandas as pd\n",
        "import numpy as np"
      ]
    },
    {
      "cell_type": "code",
      "source": [],
      "metadata": {
        "id": "Zz5BFhgUioMp"
      },
      "execution_count": null,
      "outputs": []
    },
    {
      "cell_type": "code",
      "execution_count": null,
      "metadata": {
        "colab": {
          "base_uri": "https://localhost:8080/",
          "height": 206
        },
        "id": "Ose_AFGMO2xF",
        "outputId": "8a17772c-021a-4ac9-c6ba-45783743a1c4"
      },
      "outputs": [
        {
          "output_type": "execute_result",
          "data": {
            "text/plain": [
              "   Pregnancies  Glucose  BloodPressure  SkinThickness  Insulin   BMI  \\\n",
              "0            6      148             72             35        0  33.6   \n",
              "1            1       85             66             29        0  26.6   \n",
              "2            8      183             64              0        0  23.3   \n",
              "3            1       89             66             23       94  28.1   \n",
              "4            0      137             40             35      168  43.1   \n",
              "\n",
              "   DiabetesPedigreeFunction  Age  Outcome  \n",
              "0                     0.627   50        1  \n",
              "1                     0.351   31        0  \n",
              "2                     0.672   32        1  \n",
              "3                     0.167   21        0  \n",
              "4                     2.288   33        1  "
            ],
            "text/html": [
              "\n",
              "  <div id=\"df-f26902ed-51c2-47b9-924d-35708e414e0f\">\n",
              "    <div class=\"colab-df-container\">\n",
              "      <div>\n",
              "<style scoped>\n",
              "    .dataframe tbody tr th:only-of-type {\n",
              "        vertical-align: middle;\n",
              "    }\n",
              "\n",
              "    .dataframe tbody tr th {\n",
              "        vertical-align: top;\n",
              "    }\n",
              "\n",
              "    .dataframe thead th {\n",
              "        text-align: right;\n",
              "    }\n",
              "</style>\n",
              "<table border=\"1\" class=\"dataframe\">\n",
              "  <thead>\n",
              "    <tr style=\"text-align: right;\">\n",
              "      <th></th>\n",
              "      <th>Pregnancies</th>\n",
              "      <th>Glucose</th>\n",
              "      <th>BloodPressure</th>\n",
              "      <th>SkinThickness</th>\n",
              "      <th>Insulin</th>\n",
              "      <th>BMI</th>\n",
              "      <th>DiabetesPedigreeFunction</th>\n",
              "      <th>Age</th>\n",
              "      <th>Outcome</th>\n",
              "    </tr>\n",
              "  </thead>\n",
              "  <tbody>\n",
              "    <tr>\n",
              "      <th>0</th>\n",
              "      <td>6</td>\n",
              "      <td>148</td>\n",
              "      <td>72</td>\n",
              "      <td>35</td>\n",
              "      <td>0</td>\n",
              "      <td>33.6</td>\n",
              "      <td>0.627</td>\n",
              "      <td>50</td>\n",
              "      <td>1</td>\n",
              "    </tr>\n",
              "    <tr>\n",
              "      <th>1</th>\n",
              "      <td>1</td>\n",
              "      <td>85</td>\n",
              "      <td>66</td>\n",
              "      <td>29</td>\n",
              "      <td>0</td>\n",
              "      <td>26.6</td>\n",
              "      <td>0.351</td>\n",
              "      <td>31</td>\n",
              "      <td>0</td>\n",
              "    </tr>\n",
              "    <tr>\n",
              "      <th>2</th>\n",
              "      <td>8</td>\n",
              "      <td>183</td>\n",
              "      <td>64</td>\n",
              "      <td>0</td>\n",
              "      <td>0</td>\n",
              "      <td>23.3</td>\n",
              "      <td>0.672</td>\n",
              "      <td>32</td>\n",
              "      <td>1</td>\n",
              "    </tr>\n",
              "    <tr>\n",
              "      <th>3</th>\n",
              "      <td>1</td>\n",
              "      <td>89</td>\n",
              "      <td>66</td>\n",
              "      <td>23</td>\n",
              "      <td>94</td>\n",
              "      <td>28.1</td>\n",
              "      <td>0.167</td>\n",
              "      <td>21</td>\n",
              "      <td>0</td>\n",
              "    </tr>\n",
              "    <tr>\n",
              "      <th>4</th>\n",
              "      <td>0</td>\n",
              "      <td>137</td>\n",
              "      <td>40</td>\n",
              "      <td>35</td>\n",
              "      <td>168</td>\n",
              "      <td>43.1</td>\n",
              "      <td>2.288</td>\n",
              "      <td>33</td>\n",
              "      <td>1</td>\n",
              "    </tr>\n",
              "  </tbody>\n",
              "</table>\n",
              "</div>\n",
              "      <button class=\"colab-df-convert\" onclick=\"convertToInteractive('df-f26902ed-51c2-47b9-924d-35708e414e0f')\"\n",
              "              title=\"Convert this dataframe to an interactive table.\"\n",
              "              style=\"display:none;\">\n",
              "        \n",
              "  <svg xmlns=\"http://www.w3.org/2000/svg\" height=\"24px\"viewBox=\"0 0 24 24\"\n",
              "       width=\"24px\">\n",
              "    <path d=\"M0 0h24v24H0V0z\" fill=\"none\"/>\n",
              "    <path d=\"M18.56 5.44l.94 2.06.94-2.06 2.06-.94-2.06-.94-.94-2.06-.94 2.06-2.06.94zm-11 1L8.5 8.5l.94-2.06 2.06-.94-2.06-.94L8.5 2.5l-.94 2.06-2.06.94zm10 10l.94 2.06.94-2.06 2.06-.94-2.06-.94-.94-2.06-.94 2.06-2.06.94z\"/><path d=\"M17.41 7.96l-1.37-1.37c-.4-.4-.92-.59-1.43-.59-.52 0-1.04.2-1.43.59L10.3 9.45l-7.72 7.72c-.78.78-.78 2.05 0 2.83L4 21.41c.39.39.9.59 1.41.59.51 0 1.02-.2 1.41-.59l7.78-7.78 2.81-2.81c.8-.78.8-2.07 0-2.86zM5.41 20L4 18.59l7.72-7.72 1.47 1.35L5.41 20z\"/>\n",
              "  </svg>\n",
              "      </button>\n",
              "      \n",
              "  <style>\n",
              "    .colab-df-container {\n",
              "      display:flex;\n",
              "      flex-wrap:wrap;\n",
              "      gap: 12px;\n",
              "    }\n",
              "\n",
              "    .colab-df-convert {\n",
              "      background-color: #E8F0FE;\n",
              "      border: none;\n",
              "      border-radius: 50%;\n",
              "      cursor: pointer;\n",
              "      display: none;\n",
              "      fill: #1967D2;\n",
              "      height: 32px;\n",
              "      padding: 0 0 0 0;\n",
              "      width: 32px;\n",
              "    }\n",
              "\n",
              "    .colab-df-convert:hover {\n",
              "      background-color: #E2EBFA;\n",
              "      box-shadow: 0px 1px 2px rgba(60, 64, 67, 0.3), 0px 1px 3px 1px rgba(60, 64, 67, 0.15);\n",
              "      fill: #174EA6;\n",
              "    }\n",
              "\n",
              "    [theme=dark] .colab-df-convert {\n",
              "      background-color: #3B4455;\n",
              "      fill: #D2E3FC;\n",
              "    }\n",
              "\n",
              "    [theme=dark] .colab-df-convert:hover {\n",
              "      background-color: #434B5C;\n",
              "      box-shadow: 0px 1px 3px 1px rgba(0, 0, 0, 0.15);\n",
              "      filter: drop-shadow(0px 1px 2px rgba(0, 0, 0, 0.3));\n",
              "      fill: #FFFFFF;\n",
              "    }\n",
              "  </style>\n",
              "\n",
              "      <script>\n",
              "        const buttonEl =\n",
              "          document.querySelector('#df-f26902ed-51c2-47b9-924d-35708e414e0f button.colab-df-convert');\n",
              "        buttonEl.style.display =\n",
              "          google.colab.kernel.accessAllowed ? 'block' : 'none';\n",
              "\n",
              "        async function convertToInteractive(key) {\n",
              "          const element = document.querySelector('#df-f26902ed-51c2-47b9-924d-35708e414e0f');\n",
              "          const dataTable =\n",
              "            await google.colab.kernel.invokeFunction('convertToInteractive',\n",
              "                                                     [key], {});\n",
              "          if (!dataTable) return;\n",
              "\n",
              "          const docLinkHtml = 'Like what you see? Visit the ' +\n",
              "            '<a target=\"_blank\" href=https://colab.research.google.com/notebooks/data_table.ipynb>data table notebook</a>'\n",
              "            + ' to learn more about interactive tables.';\n",
              "          element.innerHTML = '';\n",
              "          dataTable['output_type'] = 'display_data';\n",
              "          await google.colab.output.renderOutput(dataTable, element);\n",
              "          const docLink = document.createElement('div');\n",
              "          docLink.innerHTML = docLinkHtml;\n",
              "          element.appendChild(docLink);\n",
              "        }\n",
              "      </script>\n",
              "    </div>\n",
              "  </div>\n",
              "  "
            ]
          },
          "metadata": {},
          "execution_count": 8
        }
      ],
      "source": [
        "data=pd.read_csv('/content/diabetes.csv')\n",
        "data.head()"
      ]
    },
    {
      "cell_type": "code",
      "execution_count": null,
      "metadata": {
        "id": "Qrsx4vPIPS59"
      },
      "outputs": [],
      "source": [
        "X=data.drop(['Outcome'], axis=1)\n",
        "y=data['Outcome']"
      ]
    },
    {
      "cell_type": "code",
      "execution_count": null,
      "metadata": {
        "colab": {
          "base_uri": "https://localhost:8080/"
        },
        "id": "q7e9WzE7PfMh",
        "outputId": "05917c2f-9073-47ba-97f8-51cc0388b1a0"
      },
      "outputs": [
        {
          "output_type": "execute_result",
          "data": {
            "text/plain": [
              "array([[  6.   , 148.   ,  72.   , ...,  33.6  ,   0.627,  50.   ],\n",
              "       [  1.   ,  85.   ,  66.   , ...,  26.6  ,   0.351,  31.   ],\n",
              "       [  8.   , 183.   ,  64.   , ...,  23.3  ,   0.672,  32.   ],\n",
              "       ...,\n",
              "       [  5.   , 121.   ,  72.   , ...,  26.2  ,   0.245,  30.   ],\n",
              "       [  1.   , 126.   ,  60.   , ...,  30.1  ,   0.349,  47.   ],\n",
              "       [  1.   ,  93.   ,  70.   , ...,  30.4  ,   0.315,  23.   ]])"
            ]
          },
          "metadata": {},
          "execution_count": 10
        }
      ],
      "source": [
        "X=np.array(X)\n",
        "y=np.array(y)\n",
        "X"
      ]
    },
    {
      "cell_type": "code",
      "execution_count": null,
      "metadata": {
        "id": "gjRhh1olPsT5"
      },
      "outputs": [],
      "source": [
        "def split_data(x,y):\n",
        "  n=int(len(x)*0.8)\n",
        "  X_train, X_test=x[:n], x[n:]\n",
        "  y_train, y_test=y[:n], y[n:]\n",
        "  return X_train, X_test, y_train, y_test \n"
      ]
    },
    {
      "cell_type": "code",
      "execution_count": null,
      "metadata": {
        "colab": {
          "base_uri": "https://localhost:8080/"
        },
        "id": "ry6g7yDwQSTd",
        "outputId": "6787a17d-80d1-462e-a2dc-d09b356eac58"
      },
      "outputs": [
        {
          "output_type": "execute_result",
          "data": {
            "text/plain": [
              "((614, 8), (154, 8), (614,), (154,))"
            ]
          },
          "metadata": {},
          "execution_count": 12
        }
      ],
      "source": [
        "X_train, X_test, y_train, y_test =split_data(X,y)\n",
        "X_train.shape, X_test.shape, y_train.shape, y_test.shape"
      ]
    },
    {
      "cell_type": "code",
      "execution_count": null,
      "metadata": {
        "id": "xYSOd86OQiKD"
      },
      "outputs": [],
      "source": [
        "def normalize(data):\n",
        "  mean=np.mean(data)\n",
        "  std=np.std(data)\n",
        "  x_normalized=(data-mean)/std\n",
        "  return x_normalized"
      ]
    },
    {
      "cell_type": "code",
      "execution_count": null,
      "metadata": {
        "colab": {
          "base_uri": "https://localhost:8080/"
        },
        "id": "aVYW_QoPQ0OO",
        "outputId": "83c2ff8c-d544-4049-ccdc-198589b60835"
      },
      "outputs": [
        {
          "output_type": "execute_result",
          "data": {
            "text/plain": [
              "array([[-0.6014273 ,  1.62675228,  0.50389013, ..., -0.1610548 ,\n",
              "        -0.78464682,  0.08281682],\n",
              "       [-0.74178507,  1.0653212 ,  0.46880069, ..., -0.34176543,\n",
              "        -0.79078747, -0.32071176],\n",
              "       [-0.6891509 ,  1.25831313,  0.88987399, ..., -0.29088574,\n",
              "        -0.79166471, -0.2680776 ],\n",
              "       ...,\n",
              "       [-0.70669563,  1.32849202,  0.46880069, ..., -0.33474754,\n",
              "        -0.79012077, -0.2680776 ],\n",
              "       [-0.77687451,  1.41621562,  0.25826403, ..., -0.26632313,\n",
              "        -0.78829612,  0.03018266],\n",
              "       [-0.77687451,  0.83723983,  0.43371124, ..., -0.26105971,\n",
              "        -0.78889264, -0.39089065]])"
            ]
          },
          "metadata": {},
          "execution_count": 14
        }
      ],
      "source": [
        "X_train=normalize(X_train)\n",
        "\n",
        "X_train\n",
        "X_test=normalize(X_test)\n",
        "X_test\n"
      ]
    },
    {
      "cell_type": "code",
      "source": [
        "import numpy as np\n",
        "from sklearn.datasets import make_classification\n",
        "from sklearn.metrics import accuracy_score\n",
        "\n",
        "# Define a class for logistic regression\n",
        "class LogisticRegression:\n",
        "    def __init__(self, lr=0.01, num_iter=100000, fit_intercept=True):\n",
        "        self.lr = lr\n",
        "        self.num_iter = num_iter\n",
        "        self.fit_intercept = fit_intercept\n",
        "    \n",
        "    # Add an intercept column to the input data\n",
        "    def add_intercept(self, X):\n",
        "        intercept = np.ones((X.shape[0], 1))\n",
        "        return np.concatenate((intercept, X), axis=1)\n",
        "        \n",
        "    # Compute the sigmoid function of the input\n",
        "    def sigmoid(self, z):\n",
        "        return 1 / (1 + np.exp(-z))\n",
        "        \n",
        "    # Compute the loss function of the model\n",
        "    def loss(self, h, y):\n",
        "        return (-y * np.log(h) - (1 - y) * np.log(1 - h)).mean()\n",
        "        \n",
        "    # Fit the model to the input data\n",
        "    def fit(self, X, y):\n",
        "        # Add an intercept column to the input data\n",
        "        if self.fit_intercept:\n",
        "            X = self.add_intercept(X)\n",
        "        \n",
        "        # Initialize the model parameters to zero\n",
        "        self.theta = np.zeros(X.shape[1])\n",
        "        \n",
        "        # Iterate over the training data and update the parameters using gradient descent\n",
        "        for i in range(self.num_iter):\n",
        "            z = np.dot(X, self.theta)\n",
        "            h = self.sigmoid(z)\n",
        "            gradient = np.dot(X.T, (h - y)) / y.size\n",
        "            self.theta -= self.lr * gradient\n",
        "    \n",
        "    # Predict the probabilities of the input data\n",
        "    def predict_prob(self, X):\n",
        "        if self.fit_intercept:\n",
        "            X = self.add_intercept(X)\n",
        "        \n",
        "        return self.sigmoid(np.dot(X, self.theta))\n",
        "    \n",
        "    # Predict the labels of the input data\n",
        "    def predict(self, X, threshold=0.5):\n",
        "        return self.predict_prob(X) >= threshold\n",
        "\n",
        "\n",
        "# Define a class for K-nearest neighbors (KNN)\n",
        "class KNN:\n",
        "    def __init__(self, k=5):\n",
        "        self.k = k\n",
        "    \n",
        "    # Compute the Euclidean distance between two points\n",
        "    def euclidean_distance(self, x1, x2):\n",
        "        return np.sqrt(np.sum((x1 - x2) ** 2))\n",
        "    \n",
        "    # Fit the model to the training data\n",
        "    def fit(self, X, y):\n",
        "        self.X_train = X\n",
        "        self.y_train = y\n",
        "    \n",
        "    # Predict the labels of the input data\n",
        "    def predict(self, X):\n",
        "        y_pred = np.zeros(X.shape[0])\n",
        "        for i, x in enumerate(X):\n",
        "            distances = [self.euclidean_distance(x, x_train) for x_train in self.X_train]\n",
        "            k_indices = np.argsort(distances)[:self.k]\n",
        "            k_nearest_labels = [self.y_train[i] for i in k_indices]\n",
        "            most_common_label = max(set(k_nearest_labels), key=k_nearest_labels.count)\n",
        "            y_pred[i] = most_common_label\n",
        "        return y_pred\n",
        "\n",
        "\n",
        "# Define a function for k-fold cross-validation\n",
        "def k_fold(X, y, k, model):\n",
        "    # Compute the size of each fold\n",
        "    fold_size = len(X) // k\n",
        "    \n",
        "    # Initialize an empty list to hold the scores for each fold\n",
        "    scores = []\n",
        "    \n",
        "    # Iterate over each fold\n",
        "    for i in range(k):\n",
        "        # Compute the indices of the validation data for this fold\n",
        "        start = i * fold_size\n",
        "        end = (i + 1) * fold_size\n",
        "                # Extract the validation data\n",
        "        X_val = X[start:end]\n",
        "        y_val = y[start:end]\n",
        "        \n",
        "        # Extract the training data\n",
        "        X_train = np.concatenate([X[:start], X[end:]])\n",
        "        y_train = np.concatenate([y[:start], y[end:]])\n",
        "        \n",
        "        # Fit the model to the training data\n",
        "        model.fit(X_train, y_train)\n",
        "        \n",
        "        # Predict the labels of the validation data\n",
        "        y_pred = model.predict(X_val)\n",
        "        \n",
        "        # Compute the accuracy of the model on the validation data\n",
        "        score = accuracy_score(y_val, y_pred)\n",
        "        \n",
        "        # Append the score to the list of scores\n",
        "        scores.append(score)\n",
        "    \n",
        "    # Compute the average score across all folds\n",
        "    avg_score = sum(scores) / len(scores)\n",
        "    \n",
        "    return avg_score\n",
        "# Generate synthetic data\n",
        "#X, y = make_classification(n_samples=10000, n_features=3, n_informative=2, n_redundant=1, n_repeated=0, n_classes=2, random_state=42)\n",
        "\n",
        "# Set up k-fold cross-validation with 5 folds\n",
        "k = 5\n",
        "\n",
        "# Create instances of logistic regression and KNN models\n",
        "lr = LogisticRegression()\n",
        "knn = KNN()\n",
        "\n",
        "# Compute accuracy of logistic regression\n",
        "lr_acc = k_fold(X, y, k, lr)\n",
        "print(\"Logistic Regression Accuracy:\", lr_acc)\n",
        "\n",
        "# Compute accuracy of KNN\n",
        "knn_acc = k_fold(X, y, k, knn)\n",
        "print(\"KNN Accuracy:\", knn_acc)\n",
        "\n",
        " "
      ],
      "metadata": {
        "id": "e5mG7YBvAbTW",
        "outputId": "19d67027-a9d1-430a-d4a2-c3a0e3e7260f",
        "colab": {
          "base_uri": "https://localhost:8080/"
        }
      },
      "execution_count": null,
      "outputs": [
        {
          "output_type": "stream",
          "name": "stdout",
          "text": [
            "Logistic Regression Accuracy: 0.550326797385621\n",
            "KNN Accuracy: 0.7202614379084966\n"
          ]
        }
      ]
    },
    {
      "cell_type": "code",
      "source": [],
      "metadata": {
        "id": "pWe3XZ1tA7T6"
      },
      "execution_count": null,
      "outputs": []
    },
    {
      "cell_type": "code",
      "source": [
        "import numpy as np\n",
        "import matplotlib.pyplot as plt\n",
        "from sklearn.datasets import make_classification\n",
        "from sklearn.linear_model import LogisticRegression\n",
        "from sklearn.neighbors import KNeighborsClassifier\n",
        "from sklearn.model_selection import KFold\n",
        "from sklearn.metrics import accuracy_score\n",
        "\n",
        "# Generate random dataset\n",
        "X, y = make_classification(n_samples=1000, n_features=10, n_informative=5, n_redundant=0, random_state=42)\n",
        "\n",
        "# Define models to compare\n",
        "models = [\n",
        "    ('Logistic Regression', LogisticRegression()),\n",
        "    ('K-Nearest Neighbors', KNeighborsClassifier())\n",
        "]\n",
        "\n",
        "# Define number of folds for k-fold cross-validation\n",
        "num_folds = 5\n",
        "\n",
        "# Define figure size for subplots\n",
        "fig_size = (10, 5)\n",
        "\n",
        "# Define subplot layout\n",
        "subplot_layout = (1, len(models))\n",
        "\n",
        "# Initialize figure and subplots\n",
        "fig, axs = plt.subplots(nrows=subplot_layout[0], ncols=subplot_layout[1], figsize=fig_size)\n",
        "\n",
        "# Set figure title\n",
        "fig.suptitle('Model Comparison')\n",
        "\n",
        "# Initialize list to store accuracy scores for each model\n",
        "accuracy_scores = []\n",
        "\n",
        "# Iterate over models and train/test using k-fold cross-validation\n",
        "for i, (name, model) in enumerate(models):\n",
        "    # Initialize list to store accuracy scores for each fold\n",
        "    fold_accuracy_scores = []\n",
        "    \n",
        "    # Initialize k-fold cross-validation object\n",
        "    kf = KFold(n_splits=num_folds, shuffle=True, random_state=42)\n",
        "    \n",
        "    # Iterate over each fold\n",
        "    for fold_num, (train_index, test_index) in enumerate(kf.split(X)):\n",
        "        # Split data into training and testing sets\n",
        "        X_train, X_test = X[train_index], X[test_index]\n",
        "        y_train, y_test = y[train_index], y[test_index]\n",
        "        \n",
        "        # Fit model on training data\n",
        "        model.fit(X_train, y_train)\n",
        "        \n",
        "        # Make predictions on testing data\n",
        "        y_pred = model.predict(X_test)\n",
        "        \n",
        "        # Compute accuracy score and append to list\n",
        "        fold_accuracy_scores.append(accuracy_score(y_test, y_pred))\n",
        "        \n",
        "    # Compute average accuracy across all folds and append to list\n",
        "    avg_accuracy = np.mean(fold_accuracy_scores)\n",
        "    accuracy_scores.append(avg_accuracy)\n",
        "    \n",
        "    # Plot accuracy scores for each fold\n",
        "    axs[i].plot(range(1, num_folds+1), fold_accuracy_scores, '-o')\n",
        "    \n",
        "    # Set subplot title and labels\n",
        "    axs[i].set_title(name)\n",
        "    axs[i].set_xlabel('Fold')\n",
        "    axs[i].set_ylabel('Accuracy')\n",
        "    \n",
        "    # Display average accuracy score for model\n",
        "    axs[i].text(0.5, 0.1, f'Average Accuracy: {avg_accuracy:.2f}', transform=axs[i].transAxes, ha='center')\n",
        "    \n",
        "# Display overall accuracy scores for each model\n",
        "plt.figure()\n",
        "plt.bar([name for name, _ in models], accuracy_scores)\n",
        "plt.title('Average Accuracy Scores')\n",
        "plt.xlabel('Model')\n",
        "plt.ylabel('Accuracy')\n",
        "plt.ylim(0.8, 1.0)\n",
        "plt.show()\n"
      ],
      "metadata": {
        "colab": {
          "base_uri": "https://localhost:8080/",
          "height": 970
        },
        "id": "r71fBrCZUKiY",
        "outputId": "a0b4dd92-5535-4381-f797-1bb6572982a0"
      },
      "execution_count": null,
      "outputs": [
        {
          "output_type": "display_data",
          "data": {
            "text/plain": [
              "<Figure size 1000x500 with 2 Axes>"
            ],
            "image/png": "[encoded data removed]"
          },
          "metadata": {}
        },
        {
          "output_type": "display_data",
          "data": {
            "text/plain": [
              "<Figure size 640x480 with 1 Axes>"
            ],
            "image/png": "[encoded data removed]"
          },
          "metadata": {}
        }
      ]
    },
    {
      "cell_type": "code",
      "source": [],
      "metadata": {
        "id": "kcjGd7cBULXP"
      },
      "execution_count": null,
      "outputs": []
    }
  ],
  "metadata": {
    "colab": {
      "provenance": [],
      "include_colab_link": true
    },
    "kernelspec": {
      "display_name": "Python 3",
      "name": "python3"
    },
    "language_info": {
      "name": "python"
    }
  },
  "nbformat": 4,
  "nbformat_minor": 0
}